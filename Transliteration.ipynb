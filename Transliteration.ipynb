{
  "cells": [
    {
      "cell_type": "markdown",
      "metadata": {
        "id": "view-in-github",
        "colab_type": "text"
      },
      "source": [
        "<a href=\"https://colab.research.google.com/github/roshancharlie/Hindi-To-English-Transliteration-Model/blob/main/Transliteration.ipynb\" target=\"_parent\"><img src=\"https://colab.research.google.com/assets/colab-badge.svg\" alt=\"Open In Colab\"/></a>"
      ]
    },
    {
      "cell_type": "markdown",
      "metadata": {
        "id": "-2Uag6P9ZaWO"
      },
      "source": [
        "#Importing the Libraries"
      ],
      "id": "-2Uag6P9ZaWO"
    },
    {
      "cell_type": "code",
      "execution_count": 44,
      "metadata": {
        "id": "6852f92c"
      },
      "outputs": [],
      "source": [
        "import pandas as pd\n",
        "import json\n",
        "from sklearn.model_selection import train_test_split\n",
        "from keras.models import Model, load_model\n",
        "from keras.layers import Input, LSTM, Dense,Dropout\n",
        "from keras.callbacks import EarlyStopping, ModelCheckpoint\n",
        "import tensorflow as tf\n",
        "import numpy as np"
      ],
      "id": "6852f92c"
    },
    {
      "cell_type": "markdown",
      "metadata": {
        "id": "SB-qq9FkZlQd"
      },
      "source": [
        "# Data Preparation"
      ],
      "id": "SB-qq9FkZlQd"
    },
    {
      "cell_type": "code",
      "execution_count": 45,
      "metadata": {
        "id": "99473bfb"
      },
      "outputs": [],
      "source": [
        "train = pd.read_csv('train.csv')"
      ],
      "id": "99473bfb"
    },
    {
      "cell_type": "code",
      "execution_count": 46,
      "metadata": {
        "id": "uhRkEsSPZy6o"
      },
      "outputs": [],
      "source": [
        "train['hindi'] = train['hindi'].astype(str)\n",
        "train['english'] = train['english'].astype(str)"
      ],
      "id": "uhRkEsSPZy6o"
    },
    {
      "cell_type": "code",
      "execution_count": 47,
      "metadata": {
        "id": "C-lytLLnVgok"
      },
      "outputs": [],
      "source": [
        "train['hindi'] = train['hindi'].str.strip() # hindi has no caps\n",
        "train['english'] = train['english'].str.strip().str.lower()"
      ],
      "id": "C-lytLLnVgok"
    },
    {
      "cell_type": "code",
      "execution_count": 48,
      "metadata": {
        "id": "7sHON6JNVln_"
      },
      "outputs": [],
      "source": [
        "train = train[~train['english'].str.contains('\\.')]\n",
        "train = train[~train['english'].str.contains(',')]"
      ],
      "id": "7sHON6JNVln_"
    },
    {
      "cell_type": "code",
      "execution_count": 49,
      "metadata": {
        "colab": {
          "base_uri": "https://localhost:8080/",
          "height": 206
        },
        "id": "4Nt0xbiDWcn_",
        "outputId": "66904865-f6fe-44f9-f5ea-13fcb9b3a41a"
      },
      "outputs": [
        {
          "output_type": "execute_result",
          "data": {
            "text/plain": [
              "   Unnamed: 0        hindi           english\n",
              "0      819069  अनाधिकृतपणे  anaadhikritapane\n",
              "1     1160250    पॉडकास्टर         podcaster\n",
              "2      810678        बेयंत            beyant\n",
              "3       79522         बोझि            bojhee\n",
              "4     1072591       बहानें          bahaanen"
            ],
            "text/html": [
              "\n",
              "  <div id=\"df-a22c60e9-4349-4456-96e3-eb55a4c0b914\">\n",
              "    <div class=\"colab-df-container\">\n",
              "      <div>\n",
              "<style scoped>\n",
              "    .dataframe tbody tr th:only-of-type {\n",
              "        vertical-align: middle;\n",
              "    }\n",
              "\n",
              "    .dataframe tbody tr th {\n",
              "        vertical-align: top;\n",
              "    }\n",
              "\n",
              "    .dataframe thead th {\n",
              "        text-align: right;\n",
              "    }\n",
              "</style>\n",
              "<table border=\"1\" class=\"dataframe\">\n",
              "  <thead>\n",
              "    <tr style=\"text-align: right;\">\n",
              "      <th></th>\n",
              "      <th>Unnamed: 0</th>\n",
              "      <th>hindi</th>\n",
              "      <th>english</th>\n",
              "    </tr>\n",
              "  </thead>\n",
              "  <tbody>\n",
              "    <tr>\n",
              "      <th>0</th>\n",
              "      <td>819069</td>\n",
              "      <td>अनाधिकृतपणे</td>\n",
              "      <td>anaadhikritapane</td>\n",
              "    </tr>\n",
              "    <tr>\n",
              "      <th>1</th>\n",
              "      <td>1160250</td>\n",
              "      <td>पॉडकास्टर</td>\n",
              "      <td>podcaster</td>\n",
              "    </tr>\n",
              "    <tr>\n",
              "      <th>2</th>\n",
              "      <td>810678</td>\n",
              "      <td>बेयंत</td>\n",
              "      <td>beyant</td>\n",
              "    </tr>\n",
              "    <tr>\n",
              "      <th>3</th>\n",
              "      <td>79522</td>\n",
              "      <td>बोझि</td>\n",
              "      <td>bojhee</td>\n",
              "    </tr>\n",
              "    <tr>\n",
              "      <th>4</th>\n",
              "      <td>1072591</td>\n",
              "      <td>बहानें</td>\n",
              "      <td>bahaanen</td>\n",
              "    </tr>\n",
              "  </tbody>\n",
              "</table>\n",
              "</div>\n",
              "      <button class=\"colab-df-convert\" onclick=\"convertToInteractive('df-a22c60e9-4349-4456-96e3-eb55a4c0b914')\"\n",
              "              title=\"Convert this dataframe to an interactive table.\"\n",
              "              style=\"display:none;\">\n",
              "        \n",
              "  <svg xmlns=\"http://www.w3.org/2000/svg\" height=\"24px\"viewBox=\"0 0 24 24\"\n",
              "       width=\"24px\">\n",
              "    <path d=\"M0 0h24v24H0V0z\" fill=\"none\"/>\n",
              "    <path d=\"M18.56 5.44l.94 2.06.94-2.06 2.06-.94-2.06-.94-.94-2.06-.94 2.06-2.06.94zm-11 1L8.5 8.5l.94-2.06 2.06-.94-2.06-.94L8.5 2.5l-.94 2.06-2.06.94zm10 10l.94 2.06.94-2.06 2.06-.94-2.06-.94-.94-2.06-.94 2.06-2.06.94z\"/><path d=\"M17.41 7.96l-1.37-1.37c-.4-.4-.92-.59-1.43-.59-.52 0-1.04.2-1.43.59L10.3 9.45l-7.72 7.72c-.78.78-.78 2.05 0 2.83L4 21.41c.39.39.9.59 1.41.59.51 0 1.02-.2 1.41-.59l7.78-7.78 2.81-2.81c.8-.78.8-2.07 0-2.86zM5.41 20L4 18.59l7.72-7.72 1.47 1.35L5.41 20z\"/>\n",
              "  </svg>\n",
              "      </button>\n",
              "      \n",
              "  <style>\n",
              "    .colab-df-container {\n",
              "      display:flex;\n",
              "      flex-wrap:wrap;\n",
              "      gap: 12px;\n",
              "    }\n",
              "\n",
              "    .colab-df-convert {\n",
              "      background-color: #E8F0FE;\n",
              "      border: none;\n",
              "      border-radius: 50%;\n",
              "      cursor: pointer;\n",
              "      display: none;\n",
              "      fill: #1967D2;\n",
              "      height: 32px;\n",
              "      padding: 0 0 0 0;\n",
              "      width: 32px;\n",
              "    }\n",
              "\n",
              "    .colab-df-convert:hover {\n",
              "      background-color: #E2EBFA;\n",
              "      box-shadow: 0px 1px 2px rgba(60, 64, 67, 0.3), 0px 1px 3px 1px rgba(60, 64, 67, 0.15);\n",
              "      fill: #174EA6;\n",
              "    }\n",
              "\n",
              "    [theme=dark] .colab-df-convert {\n",
              "      background-color: #3B4455;\n",
              "      fill: #D2E3FC;\n",
              "    }\n",
              "\n",
              "    [theme=dark] .colab-df-convert:hover {\n",
              "      background-color: #434B5C;\n",
              "      box-shadow: 0px 1px 3px 1px rgba(0, 0, 0, 0.15);\n",
              "      filter: drop-shadow(0px 1px 2px rgba(0, 0, 0, 0.3));\n",
              "      fill: #FFFFFF;\n",
              "    }\n",
              "  </style>\n",
              "\n",
              "      <script>\n",
              "        const buttonEl =\n",
              "          document.querySelector('#df-a22c60e9-4349-4456-96e3-eb55a4c0b914 button.colab-df-convert');\n",
              "        buttonEl.style.display =\n",
              "          google.colab.kernel.accessAllowed ? 'block' : 'none';\n",
              "\n",
              "        async function convertToInteractive(key) {\n",
              "          const element = document.querySelector('#df-a22c60e9-4349-4456-96e3-eb55a4c0b914');\n",
              "          const dataTable =\n",
              "            await google.colab.kernel.invokeFunction('convertToInteractive',\n",
              "                                                     [key], {});\n",
              "          if (!dataTable) return;\n",
              "\n",
              "          const docLinkHtml = 'Like what you see? Visit the ' +\n",
              "            '<a target=\"_blank\" href=https://colab.research.google.com/notebooks/data_table.ipynb>data table notebook</a>'\n",
              "            + ' to learn more about interactive tables.';\n",
              "          element.innerHTML = '';\n",
              "          dataTable['output_type'] = 'display_data';\n",
              "          await google.colab.output.renderOutput(dataTable, element);\n",
              "          const docLink = document.createElement('div');\n",
              "          docLink.innerHTML = docLinkHtml;\n",
              "          element.appendChild(docLink);\n",
              "        }\n",
              "      </script>\n",
              "    </div>\n",
              "  </div>\n",
              "  "
            ]
          },
          "metadata": {},
          "execution_count": 49
        }
      ],
      "source": [
        "train.head()"
      ],
      "id": "4Nt0xbiDWcn_"
    },
    {
      "cell_type": "code",
      "execution_count": 50,
      "metadata": {
        "id": "Tt0qStJzVlK_"
      },
      "outputs": [],
      "source": [
        "def isEnglish(s):\n",
        "  try:\n",
        "      s.encode(encoding='utf-8').decode('ascii')\n",
        "  except UnicodeDecodeError:\n",
        "      return False\n",
        "  else:\n",
        "      return True\n",
        "\n",
        "train = train[train['english'].apply(isEnglish)]"
      ],
      "id": "Tt0qStJzVlK_"
    },
    {
      "cell_type": "code",
      "execution_count": 51,
      "metadata": {
        "colab": {
          "base_uri": "https://localhost:8080/",
          "height": 206
        },
        "id": "h_kEzqWjViyN",
        "outputId": "21852659-93db-4cf7-8f9c-69fd96547c74"
      },
      "outputs": [
        {
          "output_type": "execute_result",
          "data": {
            "text/plain": [
              "   Unnamed: 0        hindi             english\n",
              "0      819069  अनाधिकृतपणे  ^anaadhikritapane$\n",
              "1     1160250    पॉडकास्टर         ^podcaster$\n",
              "2      810678        बेयंत            ^beyant$\n",
              "3       79522         बोझि            ^bojhee$\n",
              "4     1072591       बहानें          ^bahaanen$"
            ],
            "text/html": [
              "\n",
              "  <div id=\"df-6e081622-46e2-4020-a443-008ccd990caa\">\n",
              "    <div class=\"colab-df-container\">\n",
              "      <div>\n",
              "<style scoped>\n",
              "    .dataframe tbody tr th:only-of-type {\n",
              "        vertical-align: middle;\n",
              "    }\n",
              "\n",
              "    .dataframe tbody tr th {\n",
              "        vertical-align: top;\n",
              "    }\n",
              "\n",
              "    .dataframe thead th {\n",
              "        text-align: right;\n",
              "    }\n",
              "</style>\n",
              "<table border=\"1\" class=\"dataframe\">\n",
              "  <thead>\n",
              "    <tr style=\"text-align: right;\">\n",
              "      <th></th>\n",
              "      <th>Unnamed: 0</th>\n",
              "      <th>hindi</th>\n",
              "      <th>english</th>\n",
              "    </tr>\n",
              "  </thead>\n",
              "  <tbody>\n",
              "    <tr>\n",
              "      <th>0</th>\n",
              "      <td>819069</td>\n",
              "      <td>अनाधिकृतपणे</td>\n",
              "      <td>^anaadhikritapane$</td>\n",
              "    </tr>\n",
              "    <tr>\n",
              "      <th>1</th>\n",
              "      <td>1160250</td>\n",
              "      <td>पॉडकास्टर</td>\n",
              "      <td>^podcaster$</td>\n",
              "    </tr>\n",
              "    <tr>\n",
              "      <th>2</th>\n",
              "      <td>810678</td>\n",
              "      <td>बेयंत</td>\n",
              "      <td>^beyant$</td>\n",
              "    </tr>\n",
              "    <tr>\n",
              "      <th>3</th>\n",
              "      <td>79522</td>\n",
              "      <td>बोझि</td>\n",
              "      <td>^bojhee$</td>\n",
              "    </tr>\n",
              "    <tr>\n",
              "      <th>4</th>\n",
              "      <td>1072591</td>\n",
              "      <td>बहानें</td>\n",
              "      <td>^bahaanen$</td>\n",
              "    </tr>\n",
              "  </tbody>\n",
              "</table>\n",
              "</div>\n",
              "      <button class=\"colab-df-convert\" onclick=\"convertToInteractive('df-6e081622-46e2-4020-a443-008ccd990caa')\"\n",
              "              title=\"Convert this dataframe to an interactive table.\"\n",
              "              style=\"display:none;\">\n",
              "        \n",
              "  <svg xmlns=\"http://www.w3.org/2000/svg\" height=\"24px\"viewBox=\"0 0 24 24\"\n",
              "       width=\"24px\">\n",
              "    <path d=\"M0 0h24v24H0V0z\" fill=\"none\"/>\n",
              "    <path d=\"M18.56 5.44l.94 2.06.94-2.06 2.06-.94-2.06-.94-.94-2.06-.94 2.06-2.06.94zm-11 1L8.5 8.5l.94-2.06 2.06-.94-2.06-.94L8.5 2.5l-.94 2.06-2.06.94zm10 10l.94 2.06.94-2.06 2.06-.94-2.06-.94-.94-2.06-.94 2.06-2.06.94z\"/><path d=\"M17.41 7.96l-1.37-1.37c-.4-.4-.92-.59-1.43-.59-.52 0-1.04.2-1.43.59L10.3 9.45l-7.72 7.72c-.78.78-.78 2.05 0 2.83L4 21.41c.39.39.9.59 1.41.59.51 0 1.02-.2 1.41-.59l7.78-7.78 2.81-2.81c.8-.78.8-2.07 0-2.86zM5.41 20L4 18.59l7.72-7.72 1.47 1.35L5.41 20z\"/>\n",
              "  </svg>\n",
              "      </button>\n",
              "      \n",
              "  <style>\n",
              "    .colab-df-container {\n",
              "      display:flex;\n",
              "      flex-wrap:wrap;\n",
              "      gap: 12px;\n",
              "    }\n",
              "\n",
              "    .colab-df-convert {\n",
              "      background-color: #E8F0FE;\n",
              "      border: none;\n",
              "      border-radius: 50%;\n",
              "      cursor: pointer;\n",
              "      display: none;\n",
              "      fill: #1967D2;\n",
              "      height: 32px;\n",
              "      padding: 0 0 0 0;\n",
              "      width: 32px;\n",
              "    }\n",
              "\n",
              "    .colab-df-convert:hover {\n",
              "      background-color: #E2EBFA;\n",
              "      box-shadow: 0px 1px 2px rgba(60, 64, 67, 0.3), 0px 1px 3px 1px rgba(60, 64, 67, 0.15);\n",
              "      fill: #174EA6;\n",
              "    }\n",
              "\n",
              "    [theme=dark] .colab-df-convert {\n",
              "      background-color: #3B4455;\n",
              "      fill: #D2E3FC;\n",
              "    }\n",
              "\n",
              "    [theme=dark] .colab-df-convert:hover {\n",
              "      background-color: #434B5C;\n",
              "      box-shadow: 0px 1px 3px 1px rgba(0, 0, 0, 0.15);\n",
              "      filter: drop-shadow(0px 1px 2px rgba(0, 0, 0, 0.3));\n",
              "      fill: #FFFFFF;\n",
              "    }\n",
              "  </style>\n",
              "\n",
              "      <script>\n",
              "        const buttonEl =\n",
              "          document.querySelector('#df-6e081622-46e2-4020-a443-008ccd990caa button.colab-df-convert');\n",
              "        buttonEl.style.display =\n",
              "          google.colab.kernel.accessAllowed ? 'block' : 'none';\n",
              "\n",
              "        async function convertToInteractive(key) {\n",
              "          const element = document.querySelector('#df-6e081622-46e2-4020-a443-008ccd990caa');\n",
              "          const dataTable =\n",
              "            await google.colab.kernel.invokeFunction('convertToInteractive',\n",
              "                                                     [key], {});\n",
              "          if (!dataTable) return;\n",
              "\n",
              "          const docLinkHtml = 'Like what you see? Visit the ' +\n",
              "            '<a target=\"_blank\" href=https://colab.research.google.com/notebooks/data_table.ipynb>data table notebook</a>'\n",
              "            + ' to learn more about interactive tables.';\n",
              "          element.innerHTML = '';\n",
              "          dataTable['output_type'] = 'display_data';\n",
              "          await google.colab.output.renderOutput(dataTable, element);\n",
              "          const docLink = document.createElement('div');\n",
              "          docLink.innerHTML = docLinkHtml;\n",
              "          element.appendChild(docLink);\n",
              "        }\n",
              "      </script>\n",
              "    </div>\n",
              "  </div>\n",
              "  "
            ]
          },
          "metadata": {},
          "execution_count": 51
        }
      ],
      "source": [
        "sos = '^'\n",
        "eos = '$'\n",
        "\n",
        "train['english'] = sos + train['english'].astype(str) + eos\n",
        "\n",
        "train.head()"
      ],
      "id": "h_kEzqWjViyN"
    },
    {
      "cell_type": "code",
      "execution_count": 52,
      "metadata": {
        "id": "1149da1c"
      },
      "outputs": [],
      "source": [
        "hindi_text = train['hindi']\n",
        "english_text = train['english']"
      ],
      "id": "1149da1c"
    },
    {
      "cell_type": "code",
      "execution_count": 53,
      "metadata": {
        "colab": {
          "base_uri": "https://localhost:8080/"
        },
        "id": "-crLDTE0W12G",
        "outputId": "627612bd-7bae-4bd3-85e9-0c25a9438bf0"
      },
      "outputs": [
        {
          "output_type": "stream",
          "name": "stdout",
          "text": [
            "hindi text shape : (100000,)\n",
            "अनाधिकृतपणे\n",
            "english text shape : (100000,)\n",
            "^anaadhikritapane$\n"
          ]
        }
      ],
      "source": [
        "print('hindi text shape :',hindi_text.shape)\n",
        "print(hindi_text[0])\n",
        "print('english text shape :',english_text.shape)\n",
        "print(english_text[0])"
      ],
      "id": "-crLDTE0W12G"
    },
    {
      "cell_type": "code",
      "execution_count": 54,
      "metadata": {
        "id": "f198560e"
      },
      "outputs": [],
      "source": [
        "train_hindi_text, val_hindi_text, train_english_text, val_english_text = train_test_split(hindi_text, english_text, test_size=0.2, random_state=42)"
      ],
      "id": "f198560e"
    },
    {
      "cell_type": "code",
      "execution_count": 55,
      "metadata": {
        "colab": {
          "base_uri": "https://localhost:8080/"
        },
        "id": "e07aa734",
        "outputId": "af9c294d-9d28-4f6f-8235-409c3c75aad3"
      },
      "outputs": [
        {
          "output_type": "stream",
          "name": "stdout",
          "text": [
            "26\n",
            "29\n"
          ]
        }
      ],
      "source": [
        "max_input_len = max([len(text) for text in hindi_text])\n",
        "print(max_input_len)\n",
        "max_target_len = max([len(text) for text in english_text])\n",
        "print(max_target_len)"
      ],
      "id": "e07aa734"
    },
    {
      "cell_type": "code",
      "execution_count": 56,
      "metadata": {
        "colab": {
          "base_uri": "https://localhost:8080/"
        },
        "id": "9514a61f",
        "outputId": "48e7cc37-121c-498b-8ea6-43f9aa92ee37"
      },
      "outputs": [
        {
          "output_type": "stream",
          "name": "stdout",
          "text": [
            "['ँ', 'ं', 'ः', 'अ', 'आ', 'इ', 'ई', 'उ', 'ऊ', 'ऋ', 'ए', 'ऐ', 'ऑ', 'ओ', 'औ', 'क', 'ख', 'ग', 'घ', 'ङ', 'च', 'छ', 'ज', 'झ', 'ञ', 'ट', 'ठ', 'ड', 'ढ', 'ण', 'त', 'थ', 'द', 'ध', 'न', 'प', 'फ', 'ब', 'भ', 'म', 'य', 'र', 'ल', 'ळ', 'व', 'श', 'ष', 'स', 'ह', '़', 'ऽ', 'ा', 'ि', 'ी', 'ु', 'ू', 'ृ', 'ॅ', 'े', 'ै', 'ॉ', 'ॊ', 'ो', 'ौ', '्']\n",
            "['$', '^', 'a', 'b', 'c', 'd', 'e', 'f', 'g', 'h', 'i', 'j', 'k', 'l', 'm', 'n', 'o', 'p', 'q', 'r', 's', 't', 'u', 'v', 'w', 'x', 'y', 'z']\n"
          ]
        }
      ],
      "source": [
        "input_chars = sorted(list(set(''.join(hindi_text))))\n",
        "print(input_chars)\n",
        "target_chars = sorted(list(set(''.join(english_text))))\n",
        "print(target_chars)"
      ],
      "id": "9514a61f"
    },
    {
      "cell_type": "code",
      "execution_count": 57,
      "metadata": {
        "colab": {
          "base_uri": "https://localhost:8080/"
        },
        "id": "ntoAV1eWcY12",
        "outputId": "beee150c-c100-474a-c248-4b34bf2e5ab8"
      },
      "outputs": [
        {
          "output_type": "stream",
          "name": "stdout",
          "text": [
            "65\n",
            "65\n"
          ]
        }
      ],
      "source": [
        "num_encoder_tokens = len(input_chars)\n",
        "print(num_encoder_tokens)\n",
        "num_decoder_tokens = len(target_chars)\n",
        "print(num_encoder_tokens)"
      ],
      "id": "ntoAV1eWcY12"
    },
    {
      "cell_type": "code",
      "execution_count": 58,
      "metadata": {
        "colab": {
          "base_uri": "https://localhost:8080/"
        },
        "id": "b-AMfYN7cZ0V",
        "outputId": "c1588997-ccf7-49e8-dc39-5e1b2919711f"
      },
      "outputs": [
        {
          "output_type": "stream",
          "name": "stdout",
          "text": [
            "{'ँ': 0, 'ं': 1, 'ः': 2, 'अ': 3, 'आ': 4, 'इ': 5, 'ई': 6, 'उ': 7, 'ऊ': 8, 'ऋ': 9, 'ए': 10, 'ऐ': 11, 'ऑ': 12, 'ओ': 13, 'औ': 14, 'क': 15, 'ख': 16, 'ग': 17, 'घ': 18, 'ङ': 19, 'च': 20, 'छ': 21, 'ज': 22, 'झ': 23, 'ञ': 24, 'ट': 25, 'ठ': 26, 'ड': 27, 'ढ': 28, 'ण': 29, 'त': 30, 'थ': 31, 'द': 32, 'ध': 33, 'न': 34, 'प': 35, 'फ': 36, 'ब': 37, 'भ': 38, 'म': 39, 'य': 40, 'र': 41, 'ल': 42, 'ळ': 43, 'व': 44, 'श': 45, 'ष': 46, 'स': 47, 'ह': 48, '़': 49, 'ऽ': 50, 'ा': 51, 'ि': 52, 'ी': 53, 'ु': 54, 'ू': 55, 'ृ': 56, 'ॅ': 57, 'े': 58, 'ै': 59, 'ॉ': 60, 'ॊ': 61, 'ो': 62, 'ौ': 63, '्': 64}\n",
            "{'$': 0, '^': 1, 'a': 2, 'b': 3, 'c': 4, 'd': 5, 'e': 6, 'f': 7, 'g': 8, 'h': 9, 'i': 10, 'j': 11, 'k': 12, 'l': 13, 'm': 14, 'n': 15, 'o': 16, 'p': 17, 'q': 18, 'r': 19, 's': 20, 't': 21, 'u': 22, 'v': 23, 'w': 24, 'x': 25, 'y': 26, 'z': 27}\n"
          ]
        }
      ],
      "source": [
        "input_char_index = dict((char, i) for i, char in enumerate(input_chars))\n",
        "print(input_char_index)\n",
        "target_char_index = dict((char, i) for i, char in enumerate(target_chars))\n",
        "print(target_char_index)"
      ],
      "id": "b-AMfYN7cZ0V"
    },
    {
      "cell_type": "code",
      "execution_count": 59,
      "metadata": {
        "id": "8e317bad"
      },
      "outputs": [],
      "source": [
        "encoder_input_data = np.zeros((len(train_hindi_text), max_input_len, num_encoder_tokens), dtype='float32')\n",
        "decoder_input_data = np.zeros((len(train_english_text), max_target_len, num_decoder_tokens), dtype='float32')\n",
        "decoder_target_data = np.zeros((len(train_english_text), max_target_len, num_decoder_tokens), dtype='float32')"
      ],
      "id": "8e317bad"
    },
    {
      "cell_type": "code",
      "execution_count": 62,
      "metadata": {
        "id": "a4fa0bea"
      },
      "outputs": [],
      "source": [
        "for i, (input_text, target_text) in enumerate(zip(train_hindi_text, train_english_text)):\n",
        "    for t, char in enumerate(input_text):\n",
        "        encoder_input_data[i, t, input_char_index[char]] = 1\n",
        "    for t, char in enumerate(target_text):\n",
        "        decoder_input_data[i, t, target_char_index[char]] = 1\n",
        "        if t > 0:\n",
        "            decoder_target_data[i, t - 1, target_char_index[char]] = 1"
      ],
      "id": "a4fa0bea"
    },
    {
      "cell_type": "markdown",
      "metadata": {
        "id": "zOPF5Z82yadQ"
      },
      "source": [
        "# Defining The Model"
      ],
      "id": "zOPF5Z82yadQ"
    },
    {
      "cell_type": "code",
      "execution_count": 66,
      "metadata": {
        "id": "788fbb31"
      },
      "outputs": [],
      "source": [
        "encoder_inputs = Input(shape=(None, num_encoder_tokens))\n",
        "encoder = LSTM(256, return_state=True)\n",
        "encoder_outputs, state_h, state_c = encoder(encoder_inputs)\n",
        "encoder_states = [state_h, state_c]\n",
        "\n",
        "\n",
        "decoder_inputs = Input(shape=(None, num_decoder_tokens))\n",
        "decoder_lstm = LSTM(256, return_sequences=True, return_state=True)\n",
        "decoder_outputs, _, _ = decoder_lstm(decoder_inputs, initial_state=encoder_states)\n",
        "decoder_dense = Dense(num_decoder_tokens, activation='softmax')\n",
        "decoder_outputs = decoder_dense(decoder_outputs)"
      ],
      "id": "788fbb31"
    },
    {
      "cell_type": "code",
      "source": [
        "model = Model([encoder_inputs, decoder_inputs], decoder_outputs)"
      ],
      "metadata": {
        "id": "gh9AaKCajCsS"
      },
      "id": "gh9AaKCajCsS",
      "execution_count": 67,
      "outputs": []
    },
    {
      "cell_type": "markdown",
      "metadata": {
        "id": "AL8437dUy60m"
      },
      "source": [
        "# Model Training"
      ],
      "id": "AL8437dUy60m"
    },
    {
      "cell_type": "code",
      "execution_count": 68,
      "metadata": {
        "colab": {
          "base_uri": "https://localhost:8080/"
        },
        "id": "58c10faa",
        "outputId": "70b0a56c-1d48-4d0c-8455-ed9ef83cf4d0"
      },
      "outputs": [
        {
          "output_type": "stream",
          "name": "stdout",
          "text": [
            "Model: \"model_5\"\n",
            "__________________________________________________________________________________________________\n",
            " Layer (type)                   Output Shape         Param #     Connected to                     \n",
            "==================================================================================================\n",
            " input_9 (InputLayer)           [(None, None, 65)]   0           []                               \n",
            "                                                                                                  \n",
            " input_10 (InputLayer)          [(None, None, 28)]   0           []                               \n",
            "                                                                                                  \n",
            " lstm_6 (LSTM)                  [(None, 256),        329728      ['input_9[0][0]']                \n",
            "                                 (None, 256),                                                     \n",
            "                                 (None, 256)]                                                     \n",
            "                                                                                                  \n",
            " lstm_7 (LSTM)                  [(None, None, 256),  291840      ['input_10[0][0]',               \n",
            "                                 (None, 256),                     'lstm_6[0][1]',                 \n",
            "                                 (None, 256)]                     'lstm_6[0][2]']                 \n",
            "                                                                                                  \n",
            " dense_3 (Dense)                (None, None, 28)     7196        ['lstm_7[0][0]']                 \n",
            "                                                                                                  \n",
            "==================================================================================================\n",
            "Total params: 628,764\n",
            "Trainable params: 628,764\n",
            "Non-trainable params: 0\n",
            "__________________________________________________________________________________________________\n"
          ]
        }
      ],
      "source": [
        "optimizer = tf.keras.optimizers.Adam(learning_rate=0.001)\n",
        "model.compile(optimizer=optimizer, loss='categorical_crossentropy', metrics=['accuracy'])\n",
        "\n",
        "# Define callbacks for early stopping and model checkpoint\n",
        "model_save_filename = \"model.h5\"\n",
        "earlystopping_cb = EarlyStopping(\n",
        "    monitor=\"val_accuracy\",\n",
        "    mode=\"max\",\n",
        "    verbose=1,\n",
        "    patience=20,\n",
        "    restore_best_weights=True\n",
        ")\n",
        "mdlcheckpoint_cb = ModelCheckpoint(\n",
        "    model_save_filename,\n",
        "    monitor=\"val_accuracy\",\n",
        "    mode=\"max\",\n",
        "    verbose=1,\n",
        "    save_best_only=True\n",
        ")\n",
        "\n",
        "# Print the summary of the model\n",
        "model.summary()"
      ],
      "id": "58c10faa"
    },
    {
      "cell_type": "code",
      "execution_count": 69,
      "metadata": {
        "colab": {
          "base_uri": "https://localhost:8080/"
        },
        "id": "509dc46c",
        "outputId": "f9b68ea5-4915-43a2-bca9-0a3dfd2712e4"
      },
      "outputs": [
        {
          "output_type": "stream",
          "name": "stdout",
          "text": [
            "Epoch 1/50\n",
            "1000/1000 [==============================] - ETA: 0s - loss: 0.9149 - accuracy: 0.7412\n",
            "Epoch 1: val_accuracy improved from -inf to 0.76783, saving model to model.h5\n",
            "1000/1000 [==============================] - 327s 323ms/step - loss: 0.9149 - accuracy: 0.7412 - val_loss: 0.8424 - val_accuracy: 0.7678\n",
            "Epoch 2/50\n",
            "1000/1000 [==============================] - ETA: 0s - loss: 0.9305 - accuracy: 0.7405\n",
            "Epoch 2: val_accuracy did not improve from 0.76783\n",
            "1000/1000 [==============================] - 320s 320ms/step - loss: 0.9305 - accuracy: 0.7405 - val_loss: 0.8999 - val_accuracy: 0.7513\n",
            "Epoch 3/50\n",
            "1000/1000 [==============================] - ETA: 0s - loss: 0.8891 - accuracy: 0.7551\n",
            "Epoch 3: val_accuracy did not improve from 0.76783\n",
            "1000/1000 [==============================] - 312s 312ms/step - loss: 0.8891 - accuracy: 0.7551 - val_loss: 0.8602 - val_accuracy: 0.7646\n",
            "Epoch 4/50\n",
            "1000/1000 [==============================] - ETA: 0s - loss: 0.8654 - accuracy: 0.7614\n",
            "Epoch 4: val_accuracy did not improve from 0.76783\n",
            "1000/1000 [==============================] - 312s 312ms/step - loss: 0.8654 - accuracy: 0.7614 - val_loss: 0.8926 - val_accuracy: 0.7501\n",
            "Epoch 5/50\n",
            "1000/1000 [==============================] - ETA: 0s - loss: 0.8356 - accuracy: 0.7704\n",
            "Epoch 5: val_accuracy improved from 0.76783 to 0.77826, saving model to model.h5\n",
            "1000/1000 [==============================] - 320s 320ms/step - loss: 0.8356 - accuracy: 0.7704 - val_loss: 0.8073 - val_accuracy: 0.7783\n",
            "Epoch 6/50\n",
            "1000/1000 [==============================] - ETA: 0s - loss: 0.7908 - accuracy: 0.7830\n",
            "Epoch 6: val_accuracy improved from 0.77826 to 0.79050, saving model to model.h5\n",
            "1000/1000 [==============================] - 320s 319ms/step - loss: 0.7908 - accuracy: 0.7830 - val_loss: 0.7633 - val_accuracy: 0.7905\n",
            "Epoch 7/50\n",
            "1000/1000 [==============================] - ETA: 0s - loss: 0.7250 - accuracy: 0.8032\n",
            "Epoch 7: val_accuracy improved from 0.79050 to 0.81454, saving model to model.h5\n",
            "1000/1000 [==============================] - 321s 321ms/step - loss: 0.7250 - accuracy: 0.8032 - val_loss: 0.6860 - val_accuracy: 0.8145\n",
            "Epoch 8/50\n",
            "1000/1000 [==============================] - ETA: 0s - loss: 0.6577 - accuracy: 0.8236\n",
            "Epoch 8: val_accuracy improved from 0.81454 to 0.83159, saving model to model.h5\n",
            "1000/1000 [==============================] - 323s 323ms/step - loss: 0.6577 - accuracy: 0.8236 - val_loss: 0.6304 - val_accuracy: 0.8316\n",
            "Epoch 9/50\n",
            "1000/1000 [==============================] - ETA: 0s - loss: 0.6152 - accuracy: 0.8357\n",
            "Epoch 9: val_accuracy improved from 0.83159 to 0.85590, saving model to model.h5\n",
            "1000/1000 [==============================] - 303s 303ms/step - loss: 0.6152 - accuracy: 0.8357 - val_loss: 0.5491 - val_accuracy: 0.8559\n",
            "Epoch 10/50\n",
            "1000/1000 [==============================] - ETA: 0s - loss: 0.5519 - accuracy: 0.8559\n",
            "Epoch 10: val_accuracy improved from 0.85590 to 0.86817, saving model to model.h5\n",
            "1000/1000 [==============================] - 299s 299ms/step - loss: 0.5519 - accuracy: 0.8559 - val_loss: 0.5177 - val_accuracy: 0.8682\n",
            "Epoch 11/50\n",
            "1000/1000 [==============================] - ETA: 0s - loss: 0.5824 - accuracy: 0.8479\n",
            "Epoch 11: val_accuracy did not improve from 0.86817\n",
            "1000/1000 [==============================] - 322s 322ms/step - loss: 0.5824 - accuracy: 0.8479 - val_loss: 0.8286 - val_accuracy: 0.7775\n",
            "Epoch 12/50\n",
            "1000/1000 [==============================] - ETA: 0s - loss: 0.5968 - accuracy: 0.8462\n",
            "Epoch 12: val_accuracy did not improve from 0.86817\n",
            "1000/1000 [==============================] - 310s 310ms/step - loss: 0.5968 - accuracy: 0.8462 - val_loss: 0.5681 - val_accuracy: 0.8537\n",
            "Epoch 13/50\n",
            "1000/1000 [==============================] - ETA: 0s - loss: 0.4916 - accuracy: 0.8766\n",
            "Epoch 13: val_accuracy improved from 0.86817 to 0.88521, saving model to model.h5\n",
            "1000/1000 [==============================] - 309s 309ms/step - loss: 0.4916 - accuracy: 0.8766 - val_loss: 0.4639 - val_accuracy: 0.8852\n",
            "Epoch 14/50\n",
            "1000/1000 [==============================] - ETA: 0s - loss: 0.4638 - accuracy: 0.8846\n",
            "Epoch 14: val_accuracy did not improve from 0.88521\n",
            "1000/1000 [==============================] - 313s 313ms/step - loss: 0.4638 - accuracy: 0.8846 - val_loss: 0.4977 - val_accuracy: 0.8736\n",
            "Epoch 15/50\n",
            "1000/1000 [==============================] - ETA: 0s - loss: 0.4414 - accuracy: 0.8907\n",
            "Epoch 15: val_accuracy improved from 0.88521 to 0.88781, saving model to model.h5\n",
            "1000/1000 [==============================] - 313s 313ms/step - loss: 0.4414 - accuracy: 0.8907 - val_loss: 0.4542 - val_accuracy: 0.8878\n",
            "Epoch 16/50\n",
            "1000/1000 [==============================] - ETA: 0s - loss: 0.4245 - accuracy: 0.8957\n",
            "Epoch 16: val_accuracy improved from 0.88781 to 0.90125, saving model to model.h5\n",
            "1000/1000 [==============================] - 293s 293ms/step - loss: 0.4245 - accuracy: 0.8957 - val_loss: 0.4050 - val_accuracy: 0.9013\n",
            "Epoch 17/50\n",
            "1000/1000 [==============================] - ETA: 0s - loss: 0.4144 - accuracy: 0.8981\n",
            "Epoch 17: val_accuracy improved from 0.90125 to 0.90634, saving model to model.h5\n",
            "1000/1000 [==============================] - 316s 317ms/step - loss: 0.4144 - accuracy: 0.8981 - val_loss: 0.3925 - val_accuracy: 0.9063\n",
            "Epoch 18/50\n",
            "1000/1000 [==============================] - ETA: 0s - loss: 0.3965 - accuracy: 0.9032\n",
            "Epoch 18: val_accuracy did not improve from 0.90634\n",
            "1000/1000 [==============================] - 319s 319ms/step - loss: 0.3965 - accuracy: 0.9032 - val_loss: 0.3877 - val_accuracy: 0.9043\n",
            "Epoch 19/50\n",
            "1000/1000 [==============================] - ETA: 0s - loss: 0.3755 - accuracy: 0.9086\n",
            "Epoch 19: val_accuracy improved from 0.90634 to 0.90731, saving model to model.h5\n",
            "1000/1000 [==============================] - 317s 317ms/step - loss: 0.3755 - accuracy: 0.9086 - val_loss: 0.3831 - val_accuracy: 0.9073\n",
            "Epoch 20/50\n",
            "1000/1000 [==============================] - ETA: 0s - loss: 0.3627 - accuracy: 0.9115\n",
            "Epoch 20: val_accuracy did not improve from 0.90731\n",
            "1000/1000 [==============================] - 316s 317ms/step - loss: 0.3627 - accuracy: 0.9115 - val_loss: 0.3767 - val_accuracy: 0.9067\n",
            "Epoch 21/50\n",
            "1000/1000 [==============================] - ETA: 0s - loss: 0.3484 - accuracy: 0.9150\n",
            "Epoch 21: val_accuracy improved from 0.90731 to 0.91076, saving model to model.h5\n",
            "1000/1000 [==============================] - 313s 313ms/step - loss: 0.3484 - accuracy: 0.9150 - val_loss: 0.3631 - val_accuracy: 0.9108\n",
            "Epoch 22/50\n",
            "1000/1000 [==============================] - ETA: 0s - loss: 0.3342 - accuracy: 0.9185\n",
            "Epoch 22: val_accuracy improved from 0.91076 to 0.91498, saving model to model.h5\n",
            "1000/1000 [==============================] - 315s 315ms/step - loss: 0.3342 - accuracy: 0.9185 - val_loss: 0.3450 - val_accuracy: 0.9150\n",
            "Epoch 23/50\n",
            "1000/1000 [==============================] - ETA: 0s - loss: 0.3203 - accuracy: 0.9217\n",
            "Epoch 23: val_accuracy improved from 0.91498 to 0.92477, saving model to model.h5\n",
            "1000/1000 [==============================] - 311s 311ms/step - loss: 0.3203 - accuracy: 0.9217 - val_loss: 0.3117 - val_accuracy: 0.9248\n",
            "Epoch 24/50\n",
            "1000/1000 [==============================] - ETA: 0s - loss: 0.2990 - accuracy: 0.9271\n",
            "Epoch 24: val_accuracy improved from 0.92477 to 0.92637, saving model to model.h5\n",
            "1000/1000 [==============================] - 308s 308ms/step - loss: 0.2990 - accuracy: 0.9271 - val_loss: 0.2980 - val_accuracy: 0.9264\n",
            "Epoch 25/50\n",
            "1000/1000 [==============================] - ETA: 0s - loss: 0.2874 - accuracy: 0.9299\n",
            "Epoch 25: val_accuracy improved from 0.92637 to 0.93169, saving model to model.h5\n",
            "1000/1000 [==============================] - 312s 312ms/step - loss: 0.2874 - accuracy: 0.9299 - val_loss: 0.2792 - val_accuracy: 0.9317\n",
            "Epoch 26/50\n",
            "1000/1000 [==============================] - ETA: 0s - loss: 0.2715 - accuracy: 0.9339\n",
            "Epoch 26: val_accuracy improved from 0.93169 to 0.93481, saving model to model.h5\n",
            "1000/1000 [==============================] - 316s 316ms/step - loss: 0.2715 - accuracy: 0.9339 - val_loss: 0.2658 - val_accuracy: 0.9348\n",
            "Epoch 27/50\n",
            "1000/1000 [==============================] - ETA: 0s - loss: 0.2656 - accuracy: 0.9350\n",
            "Epoch 27: val_accuracy improved from 0.93481 to 0.93602, saving model to model.h5\n",
            "1000/1000 [==============================] - 317s 317ms/step - loss: 0.2656 - accuracy: 0.9350 - val_loss: 0.2636 - val_accuracy: 0.9360\n",
            "Epoch 28/50\n",
            "1000/1000 [==============================] - ETA: 0s - loss: 0.2538 - accuracy: 0.9381\n",
            "Epoch 28: val_accuracy improved from 0.93602 to 0.93686, saving model to model.h5\n",
            "1000/1000 [==============================] - 315s 315ms/step - loss: 0.2538 - accuracy: 0.9381 - val_loss: 0.2572 - val_accuracy: 0.9369\n",
            "Epoch 29/50\n",
            "1000/1000 [==============================] - ETA: 0s - loss: 0.2427 - accuracy: 0.9409\n",
            "Epoch 29: val_accuracy improved from 0.93686 to 0.94080, saving model to model.h5\n",
            "1000/1000 [==============================] - 325s 325ms/step - loss: 0.2427 - accuracy: 0.9409 - val_loss: 0.2400 - val_accuracy: 0.9408\n",
            "Epoch 30/50\n",
            "1000/1000 [==============================] - ETA: 0s - loss: 0.2322 - accuracy: 0.9435\n",
            "Epoch 30: val_accuracy did not improve from 0.94080\n",
            "1000/1000 [==============================] - 323s 323ms/step - loss: 0.2322 - accuracy: 0.9435 - val_loss: 0.2412 - val_accuracy: 0.9405\n",
            "Epoch 31/50\n",
            "1000/1000 [==============================] - ETA: 0s - loss: 0.2261 - accuracy: 0.9447\n",
            "Epoch 31: val_accuracy improved from 0.94080 to 0.94322, saving model to model.h5\n",
            "1000/1000 [==============================] - 320s 320ms/step - loss: 0.2261 - accuracy: 0.9447 - val_loss: 0.2298 - val_accuracy: 0.9432\n",
            "Epoch 32/50\n",
            "1000/1000 [==============================] - ETA: 0s - loss: 0.2180 - accuracy: 0.9469\n",
            "Epoch 32: val_accuracy improved from 0.94322 to 0.94539, saving model to model.h5\n",
            "1000/1000 [==============================] - 317s 317ms/step - loss: 0.2180 - accuracy: 0.9469 - val_loss: 0.2218 - val_accuracy: 0.9454\n",
            "Epoch 33/50\n",
            "1000/1000 [==============================] - ETA: 0s - loss: 0.2209 - accuracy: 0.9456\n",
            "Epoch 33: val_accuracy improved from 0.94539 to 0.94542, saving model to model.h5\n",
            "1000/1000 [==============================] - 309s 309ms/step - loss: 0.2209 - accuracy: 0.9456 - val_loss: 0.2194 - val_accuracy: 0.9454\n",
            "Epoch 34/50\n",
            "1000/1000 [==============================] - ETA: 0s - loss: 0.2030 - accuracy: 0.9508\n",
            "Epoch 34: val_accuracy improved from 0.94542 to 0.94644, saving model to model.h5\n",
            "1000/1000 [==============================] - 309s 309ms/step - loss: 0.2030 - accuracy: 0.9508 - val_loss: 0.2142 - val_accuracy: 0.9464\n",
            "Epoch 35/50\n",
            "1000/1000 [==============================] - ETA: 0s - loss: 0.1966 - accuracy: 0.9523\n",
            "Epoch 35: val_accuracy did not improve from 0.94644\n",
            "1000/1000 [==============================] - 309s 309ms/step - loss: 0.1966 - accuracy: 0.9523 - val_loss: 0.2118 - val_accuracy: 0.9462\n",
            "Epoch 36/50\n",
            "1000/1000 [==============================] - ETA: 0s - loss: 0.1911 - accuracy: 0.9535\n",
            "Epoch 36: val_accuracy improved from 0.94644 to 0.94758, saving model to model.h5\n",
            "1000/1000 [==============================] - 308s 308ms/step - loss: 0.1911 - accuracy: 0.9535 - val_loss: 0.2083 - val_accuracy: 0.9476\n",
            "Epoch 37/50\n",
            "1000/1000 [==============================] - ETA: 0s - loss: 0.1881 - accuracy: 0.9541\n",
            "Epoch 37: val_accuracy did not improve from 0.94758\n",
            "1000/1000 [==============================] - 308s 309ms/step - loss: 0.1881 - accuracy: 0.9541 - val_loss: 0.2079 - val_accuracy: 0.9474\n",
            "Epoch 38/50\n",
            "1000/1000 [==============================] - ETA: 0s - loss: 0.1842 - accuracy: 0.9552\n",
            "Epoch 38: val_accuracy improved from 0.94758 to 0.95139, saving model to model.h5\n",
            "1000/1000 [==============================] - 309s 309ms/step - loss: 0.1842 - accuracy: 0.9552 - val_loss: 0.1954 - val_accuracy: 0.9514\n",
            "Epoch 39/50\n",
            "1000/1000 [==============================] - ETA: 0s - loss: 0.1772 - accuracy: 0.9570\n",
            "Epoch 39: val_accuracy improved from 0.95139 to 0.95289, saving model to model.h5\n",
            "1000/1000 [==============================] - 307s 307ms/step - loss: 0.1772 - accuracy: 0.9570 - val_loss: 0.1882 - val_accuracy: 0.9529\n",
            "Epoch 40/50\n",
            "1000/1000 [==============================] - ETA: 0s - loss: 0.1722 - accuracy: 0.9582\n",
            "Epoch 40: val_accuracy did not improve from 0.95289\n",
            "1000/1000 [==============================] - 307s 307ms/step - loss: 0.1722 - accuracy: 0.9582 - val_loss: 0.2011 - val_accuracy: 0.9481\n",
            "Epoch 41/50\n",
            "1000/1000 [==============================] - ETA: 0s - loss: 0.1719 - accuracy: 0.9582\n",
            "Epoch 41: val_accuracy did not improve from 0.95289\n",
            "1000/1000 [==============================] - 291s 291ms/step - loss: 0.1719 - accuracy: 0.9582 - val_loss: 0.1887 - val_accuracy: 0.9518\n",
            "Epoch 42/50\n",
            "1000/1000 [==============================] - ETA: 0s - loss: 0.1637 - accuracy: 0.9607\n",
            "Epoch 42: val_accuracy did not improve from 0.95289\n",
            "1000/1000 [==============================] - 312s 312ms/step - loss: 0.1637 - accuracy: 0.9607 - val_loss: 0.1882 - val_accuracy: 0.9518\n",
            "Epoch 43/50\n",
            "1000/1000 [==============================] - ETA: 0s - loss: 0.1669 - accuracy: 0.9594\n",
            "Epoch 43: val_accuracy improved from 0.95289 to 0.95434, saving model to model.h5\n",
            "1000/1000 [==============================] - 313s 313ms/step - loss: 0.1669 - accuracy: 0.9594 - val_loss: 0.1798 - val_accuracy: 0.9543\n",
            "Epoch 44/50\n",
            "1000/1000 [==============================] - ETA: 0s - loss: 0.1563 - accuracy: 0.9626\n",
            "Epoch 44: val_accuracy did not improve from 0.95434\n",
            "1000/1000 [==============================] - 308s 308ms/step - loss: 0.1563 - accuracy: 0.9626 - val_loss: 0.1815 - val_accuracy: 0.9539\n",
            "Epoch 45/50\n",
            "1000/1000 [==============================] - ETA: 0s - loss: 0.1519 - accuracy: 0.9639\n",
            "Epoch 45: val_accuracy improved from 0.95434 to 0.95458, saving model to model.h5\n",
            "1000/1000 [==============================] - 302s 302ms/step - loss: 0.1519 - accuracy: 0.9639 - val_loss: 0.1791 - val_accuracy: 0.9546\n",
            "Epoch 46/50\n",
            "1000/1000 [==============================] - ETA: 0s - loss: 0.1490 - accuracy: 0.9646\n",
            "Epoch 46: val_accuracy improved from 0.95458 to 0.95585, saving model to model.h5\n",
            "1000/1000 [==============================] - 303s 303ms/step - loss: 0.1490 - accuracy: 0.9646 - val_loss: 0.1748 - val_accuracy: 0.9559\n",
            "Epoch 47/50\n",
            "1000/1000 [==============================] - ETA: 0s - loss: 0.1536 - accuracy: 0.9630\n",
            "Epoch 47: val_accuracy improved from 0.95585 to 0.95598, saving model to model.h5\n",
            "1000/1000 [==============================] - 289s 290ms/step - loss: 0.1536 - accuracy: 0.9630 - val_loss: 0.1724 - val_accuracy: 0.9560\n",
            "Epoch 48/50\n",
            "1000/1000 [==============================] - ETA: 0s - loss: 0.1575 - accuracy: 0.9617\n",
            "Epoch 48: val_accuracy improved from 0.95598 to 0.95639, saving model to model.h5\n",
            "1000/1000 [==============================] - 308s 308ms/step - loss: 0.1575 - accuracy: 0.9617 - val_loss: 0.1714 - val_accuracy: 0.9564\n",
            "Epoch 49/50\n",
            "1000/1000 [==============================] - ETA: 0s - loss: 0.1396 - accuracy: 0.9672\n",
            "Epoch 49: val_accuracy improved from 0.95639 to 0.95657, saving model to model.h5\n",
            "1000/1000 [==============================] - 306s 306ms/step - loss: 0.1396 - accuracy: 0.9672 - val_loss: 0.1708 - val_accuracy: 0.9566\n",
            "Epoch 50/50\n",
            "1000/1000 [==============================] - ETA: 0s - loss: 0.1514 - accuracy: 0.9634\n",
            "Epoch 50: val_accuracy did not improve from 0.95657\n",
            "1000/1000 [==============================] - 303s 303ms/step - loss: 0.1514 - accuracy: 0.9634 - val_loss: 0.1739 - val_accuracy: 0.9552\n"
          ]
        }
      ],
      "source": [
        "history = model.fit([encoder_input_data, decoder_input_data], decoder_target_data,\n",
        "          batch_size=64,\n",
        "          epochs=50,\n",
        "          validation_split=0.2, \n",
        "          callbacks=[earlystopping_cb, mdlcheckpoint_cb])"
      ],
      "id": "509dc46c"
    },
    {
      "cell_type": "code",
      "execution_count": 70,
      "metadata": {
        "colab": {
          "base_uri": "https://localhost:8080/"
        },
        "id": "fuf1888YbGp2",
        "outputId": "331fac3a-f3a8-4c69-af82-45cef62ae28f"
      },
      "outputs": [
        {
          "output_type": "stream",
          "name": "stdout",
          "text": [
            "dict_keys(['loss', 'accuracy', 'val_loss', 'val_accuracy'])\n"
          ]
        }
      ],
      "source": [
        "print(history.history.keys())"
      ],
      "id": "fuf1888YbGp2"
    },
    {
      "cell_type": "code",
      "execution_count": 71,
      "metadata": {
        "colab": {
          "base_uri": "https://localhost:8080/",
          "height": 472
        },
        "id": "61rB-bdebw73",
        "outputId": "4cd91186-77b7-4925-c881-9700705ef621"
      },
      "outputs": [
        {
          "output_type": "display_data",
          "data": {
            "text/plain": [
              "<Figure size 640x480 with 1 Axes>"
            ],
            "image/png": "[encoded data removed]"
          },
          "metadata": {}
        }
      ],
      "source": [
        "import matplotlib.pyplot as plt\n",
        "plt.plot(history.history['accuracy'])\n",
        "plt.plot(history.history['val_accuracy'])\n",
        "plt.title('model accuracy')\n",
        "plt.ylabel('accuracy')\n",
        "plt.xlabel('epoch')\n",
        "plt.legend(['train', 'validation'], loc='upper left')\n",
        "plt.show()"
      ],
      "id": "61rB-bdebw73"
    },
    {
      "cell_type": "code",
      "execution_count": 72,
      "metadata": {
        "colab": {
          "base_uri": "https://localhost:8080/",
          "height": 472
        },
        "id": "vWs7823rbxUX",
        "outputId": "0a045622-37c1-472a-af46-4cf5b68640f8"
      },
      "outputs": [
        {
          "output_type": "display_data",
          "data": {
            "text/plain": [
              "<Figure size 640x480 with 1 Axes>"
            ],
            "image/png": "[encoded data removed]"
          },
          "metadata": {}
        }
      ],
      "source": [
        "plt.plot(history.history['loss'])\n",
        "plt.plot(history.history['val_loss'])\n",
        "plt.title('model loss')\n",
        "plt.ylabel('loss')\n",
        "plt.xlabel('epoch')\n",
        "plt.legend(['train', 'validation'], loc='upper left')\n",
        "plt.show()"
      ],
      "id": "vWs7823rbxUX"
    },
    {
      "cell_type": "markdown",
      "metadata": {
        "id": "VVbKC-W7zH-z"
      },
      "source": [
        "#Model Inference"
      ],
      "id": "VVbKC-W7zH-z"
    },
    {
      "cell_type": "code",
      "execution_count": 73,
      "metadata": {
        "id": "o-3guD1k9V4B"
      },
      "outputs": [],
      "source": [
        "model = load_model('model.h5')"
      ],
      "id": "o-3guD1k9V4B"
    },
    {
      "cell_type": "code",
      "execution_count": 74,
      "metadata": {
        "id": "8zimtUuua2re"
      },
      "outputs": [],
      "source": [
        "val_encoder_input_data = np.zeros((len(val_hindi_text), max_input_len, num_encoder_tokens), dtype='float32')\n",
        "val_decoder_input_data = np.zeros((len(val_english_text), max_target_len, num_decoder_tokens), dtype='float32')\n",
        "val_decoder_target_data = np.zeros((len(val_english_text), max_target_len, num_decoder_tokens), dtype='float32')"
      ],
      "id": "8zimtUuua2re"
    },
    {
      "cell_type": "code",
      "execution_count": 75,
      "metadata": {
        "id": "ls0V-4LNe0n3"
      },
      "outputs": [],
      "source": [
        "for i, (input_text, target_text) in enumerate(zip(val_hindi_text, val_english_text)):\n",
        "    for t, char in enumerate(input_text):\n",
        "        val_encoder_input_data[i, t, input_char_index[char]] = 1\n",
        "    for t, char in enumerate(target_text):\n",
        "        val_decoder_input_data[i, t, target_char_index[char]] = 1\n",
        "        if t > 0:\n",
        "            val_decoder_target_data[i, t - 1, target_char_index[char]] = 1"
      ],
      "id": "ls0V-4LNe0n3"
    },
    {
      "cell_type": "code",
      "execution_count": 76,
      "metadata": {
        "colab": {
          "base_uri": "https://localhost:8080/"
        },
        "id": "sr7Tjqume3fn",
        "outputId": "52d7b1b3-d272-4e34-bc83-e8b3c33d4d5b"
      },
      "outputs": [
        {
          "output_type": "stream",
          "name": "stdout",
          "text": [
            "625/625 [==============================] - 47s 71ms/step - loss: 0.1686 - accuracy: 0.9568\n",
            "Val loss: 0.1685992330312729\n",
            "Val accuracy: 0.9567914009094238\n"
          ]
        }
      ],
      "source": [
        "scores = model.evaluate([val_encoder_input_data, val_decoder_input_data], val_decoder_target_data, verbose=1)\n",
        "print('Val loss:', scores[0])\n",
        "print('Val accuracy:', scores[1])"
      ],
      "id": "sr7Tjqume3fn"
    },
    {
      "cell_type": "code",
      "execution_count": 79,
      "metadata": {
        "id": "IfesySlr03Rx"
      },
      "outputs": [],
      "source": [
        "encoder_model = Model(encoder_inputs, encoder_states)\n",
        "\n",
        "decoder_state_input_h = Input(shape=(256,))\n",
        "decoder_state_input_c = Input(shape=(256,))\n",
        "decoder_states_inputs = [decoder_state_input_h, decoder_state_input_c]\n",
        "decoder_outputs, state_h, state_c = decoder_lstm(decoder_inputs, initial_state=decoder_states_inputs)\n",
        "decoder_states = [state_h, state_c]\n",
        "decoder_outputs = decoder_dense(decoder_outputs)\n",
        "decoder_model = Model([decoder_inputs] + decoder_states_inputs, [decoder_outputs] + decoder_states)"
      ],
      "id": "IfesySlr03Rx"
    },
    {
      "cell_type": "code",
      "execution_count": 80,
      "metadata": {
        "id": "pttPKPge19Ue"
      },
      "outputs": [],
      "source": [
        "reverse_input_char_index = dict((i, char) for char, i in input_char_index.items())\n",
        "reverse_target_char_index = dict((i, char) for char, i in target_char_index.items())"
      ],
      "id": "pttPKPge19Ue"
    },
    {
      "cell_type": "code",
      "execution_count": 81,
      "metadata": {
        "id": "iRzUsa2z01Tr"
      },
      "outputs": [],
      "source": [
        "def decode_sequence(input_seq):\n",
        "    states_value = encoder_model.predict(input_seq)\n",
        "    target_seq = np.zeros((1, 1, num_decoder_tokens))\n",
        "    target_seq[0, 0, target_char_index['^']] = 1.0\n",
        "    stop_condition = False\n",
        "    decoded_sentence = ''\n",
        "    while not stop_condition:\n",
        "        output_tokens, h, c = decoder_model.predict([target_seq] + states_value)\n",
        "        sampled_token_index = np.argmax(output_tokens[0, -1, :])\n",
        "        sampled_char = target_chars[sampled_token_index]\n",
        "        decoded_sentence += sampled_char\n",
        "        if (sampled_char == '$' or len(decoded_sentence) > max_target_len):\n",
        "            stop_condition = True\n",
        "        target_seq = np.zeros((1, 1, num_decoder_tokens))\n",
        "        target_seq[0, 0, sampled_token_index] = 1.0\n",
        "        states_value = [h, c]\n",
        "    return decoded_sentence"
      ],
      "id": "iRzUsa2z01Tr"
    },
    {
      "cell_type": "code",
      "execution_count": 82,
      "metadata": {
        "id": "-oQ6yBKqtIc-"
      },
      "outputs": [],
      "source": [
        "def predict_output(input_text):\n",
        "    words = input_text.split(' ')\n",
        "    transliterated_words = []\n",
        "    for word in words:\n",
        "        input_seq = np.zeros((1, max_input_len, num_encoder_tokens), dtype='float32')\n",
        "        for t, char in enumerate(word):\n",
        "            input_seq[0, t, input_char_index[char]] = 1\n",
        "        decoded_word = decode_sequence(input_seq)\n",
        "        transliterated_words.append(decoded_word.rstrip('$'))\n",
        "    return ' '.join(transliterated_words)"
      ],
      "id": "-oQ6yBKqtIc-"
    },
    {
      "cell_type": "code",
      "execution_count": 83,
      "metadata": {
        "colab": {
          "base_uri": "https://localhost:8080/"
        },
        "id": "bpwhjfxOxf2k",
        "outputId": "e29b7f8b-f4bc-4773-80c6-699cf77fb8db"
      },
      "outputs": [
        {
          "output_type": "stream",
          "name": "stdout",
          "text": [
            "Hindi text: शब्दावली\n",
            "1/1 [==============================] - 0s 463ms/step\n",
            "1/1 [==============================] - 1s 503ms/step\n",
            "1/1 [==============================] - 0s 37ms/step\n",
            "1/1 [==============================] - 0s 44ms/step\n",
            "1/1 [==============================] - 0s 38ms/step\n",
            "1/1 [==============================] - 0s 40ms/step\n",
            "1/1 [==============================] - 0s 50ms/step\n",
            "1/1 [==============================] - 0s 55ms/step\n",
            "1/1 [==============================] - 0s 53ms/step\n",
            "1/1 [==============================] - 0s 42ms/step\n",
            "1/1 [==============================] - 0s 44ms/step\n",
            "1/1 [==============================] - 0s 39ms/step\n",
            "Transliterated English text: shabdawali\n"
          ]
        }
      ],
      "source": [
        "text = 'शब्दावली'\n",
        "print('Hindi text:',text)\n",
        "print('Transliterated English text:',predict_output(text))"
      ],
      "id": "bpwhjfxOxf2k"
    },
    {
      "cell_type": "code",
      "execution_count": 89,
      "metadata": {
        "colab": {
          "base_uri": "https://localhost:8080/"
        },
        "id": "V0HT_hg8xmLJ",
        "outputId": "8a831322-6f70-4d32-bddf-07194db983ed"
      },
      "outputs": [
        {
          "output_type": "stream",
          "name": "stdout",
          "text": [
            "Hindi text: क्या है\n",
            "1/1 [==============================] - 0s 42ms/step\n",
            "1/1 [==============================] - 0s 99ms/step\n",
            "1/1 [==============================] - 0s 45ms/step\n",
            "1/1 [==============================] - 0s 44ms/step\n",
            "1/1 [==============================] - 0s 48ms/step\n",
            "1/1 [==============================] - 0s 42ms/step\n",
            "1/1 [==============================] - 0s 42ms/step\n",
            "1/1 [==============================] - 0s 53ms/step\n",
            "1/1 [==============================] - 0s 44ms/step\n",
            "1/1 [==============================] - 0s 40ms/step\n",
            "1/1 [==============================] - 0s 53ms/step\n",
            "Transliterated English text: kya hain\n"
          ]
        }
      ],
      "source": [
        "text = 'क्या है'\n",
        "print('Hindi text:',text)\n",
        "print('Transliterated English text:',predict_output(text))"
      ],
      "id": "V0HT_hg8xmLJ"
    },
    {
      "cell_type": "code",
      "execution_count": 87,
      "metadata": {
        "colab": {
          "base_uri": "https://localhost:8080/"
        },
        "id": "iGEP8tk-21VW",
        "outputId": "8d175567-9ef3-4eb3-d9d1-f291820c2c65"
      },
      "outputs": [
        {
          "output_type": "stream",
          "name": "stdout",
          "text": [
            "Hindi text: रोशन\n",
            "1/1 [==============================] - 0s 49ms/step\n",
            "1/1 [==============================] - 0s 60ms/step\n",
            "1/1 [==============================] - 0s 49ms/step\n",
            "1/1 [==============================] - 0s 62ms/step\n",
            "1/1 [==============================] - 0s 64ms/step\n",
            "1/1 [==============================] - 0s 42ms/step\n",
            "1/1 [==============================] - 0s 69ms/step\n",
            "1/1 [==============================] - 0s 95ms/step\n",
            "Transliterated English text: roshan\n"
          ]
        }
      ],
      "source": [
        "text = 'रोशन'\n",
        "print('Hindi text:',text)\n",
        "print('Transliterated English text:',predict_output(text))"
      ],
      "id": "iGEP8tk-21VW"
    },
    {
      "cell_type": "code",
      "source": [
        "text = 'अनुवाद'\n",
        "print('Hindi text:',text)\n",
        "print('Transliterated English text:',predict_output(text))"
      ],
      "metadata": {
        "colab": {
          "base_uri": "https://localhost:8080/"
        },
        "id": "bCFxjr9uaAE3",
        "outputId": "e92495ad-ecda-457c-ce5f-3f41beec9742"
      },
      "id": "bCFxjr9uaAE3",
      "execution_count": 86,
      "outputs": [
        {
          "output_type": "stream",
          "name": "stdout",
          "text": [
            "Hindi text: अनुवाद\n",
            "1/1 [==============================] - 0s 28ms/step\n",
            "1/1 [==============================] - 0s 27ms/step\n",
            "1/1 [==============================] - 0s 36ms/step\n",
            "1/1 [==============================] - 0s 27ms/step\n",
            "1/1 [==============================] - 0s 30ms/step\n",
            "1/1 [==============================] - 0s 27ms/step\n",
            "1/1 [==============================] - 0s 26ms/step\n",
            "1/1 [==============================] - 0s 26ms/step\n",
            "1/1 [==============================] - 0s 26ms/step\n",
            "Transliterated English text: anuvada\n"
          ]
        }
      ]
    }
  ],
  "metadata": {
    "colab": {
      "provenance": [],
      "include_colab_link": true
    },
    "kernelspec": {
      "display_name": "Python 3 (ipykernel)",
      "language": "python",
      "name": "python3"
    },
    "language_info": {
      "codemirror_mode": {
        "name": "ipython",
        "version": 3
      },
      "file_extension": ".py",
      "mimetype": "text/x-python",
      "name": "python",
      "nbconvert_exporter": "python",
      "pygments_lexer": "ipython3",
      "version": "3.10.9"
    }
  },
  "nbformat": 4,
  "nbformat_minor": 5
}